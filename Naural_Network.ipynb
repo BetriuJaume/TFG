{
  "nbformat": 4,
  "nbformat_minor": 0,
  "metadata": {
    "colab": {
      "name": "Naural_Network.ipynb",
      "provenance": [],
      "authorship_tag": "ABX9TyPcsWy+y9ZKPOSitRwx2j3o",
      "include_colab_link": true
    },
    "kernelspec": {
      "name": "python3",
      "display_name": "Python 3"
    },
    "language_info": {
      "name": "python"
    }
  },
  "cells": [
    {
      "cell_type": "markdown",
      "metadata": {
        "id": "view-in-github",
        "colab_type": "text"
      },
      "source": [
        "<a href=\"https://colab.research.google.com/github/BetriuJaume/TFG/blob/main/Naural_Network.ipynb\" target=\"_parent\"><img src=\"https://colab.research.google.com/assets/colab-badge.svg\" alt=\"Open In Colab\"/></a>"
      ]
    },
    {
      "cell_type": "code",
      "execution_count": null,
      "metadata": {
        "id": "ZlmUex8DpoLh"
      },
      "outputs": [],
      "source": [
        ""
      ]
    }
  ]
}